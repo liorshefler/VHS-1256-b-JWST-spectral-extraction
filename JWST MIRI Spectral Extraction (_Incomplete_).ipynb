{
 "cells": [
  {
   "cell_type": "code",
   "execution_count": 13,
   "id": "a89c8e1e",
   "metadata": {},
   "outputs": [],
   "source": [
    "# Import useful python packages\n",
    "import numpy as np\n",
    "\n",
    "# Import packages to display images inline in the notebook\n",
    "import matplotlib.pyplot as plt    \n",
    "%matplotlib inline   \n",
    "\n",
    "# Set general plotting options\n",
    "params = {'legend.fontsize': '18', 'axes.labelsize': '18',\n",
    "          'axes.titlesize': '18', 'xtick.labelsize': '18',\n",
    "          'ytick.labelsize': '18', 'lines.linewidth': 2, 'axes.linewidth': 2, 'animation.html': 'html5'}\n",
    "plt.rcParams.update(params)\n",
    "plt.rcParams.update({'figure.max_open_warning': 0})"
   ]
  },
  {
   "cell_type": "code",
   "execution_count": 14,
   "id": "6d793547",
   "metadata": {},
   "outputs": [],
   "source": [
    "# Import astropy packages \n",
    "from astropy import units as u\n",
    "from astropy.io import ascii\n",
    "from astropy.wcs import WCS\n",
    "from astropy.table import Table, vstack\n",
    "from astropy.stats import sigma_clipped_stats\n",
    "from astropy.nddata import StdDevUncertainty\n",
    "from astropy.io import fits # added by BAS on 8 April 2021\n",
    "from astropy.utils.data import get_pkg_data_filename\n",
    "from astropy.utils.data import download_file\n",
    "\n",
    "# To find stars in the MRS spectralcubes and do aperture photometry\n",
    "from photutils import DAOStarFinder, CircularAperture\n",
    "\n",
    "# To deal with 1D spectrum\n",
    "from specutils import Spectrum1D\n",
    "from specutils.fitting import fit_generic_continuum\n",
    "from specutils.manipulation import box_smooth, extract_region, SplineInterpolatedResampler\n",
    "from specutils.analysis import line_flux, centroid, equivalent_width\n",
    "from specutils.spectra import SpectralRegion\n",
    "from specutils import SpectrumList\n",
    "from jdaviz import Specviz\n",
    "from jdaviz import Cubeviz\n",
    "\n",
    "# To fit a curve to the data\n",
    "from scipy.optimize import curve_fit\n"
   ]
  },
  {
   "cell_type": "code",
   "execution_count": 15,
   "id": "ad9b155b",
   "metadata": {},
   "outputs": [],
   "source": [
    "# Save and Load Objects Using Pickle\n",
    "import pickle\n",
    "\n",
    "\n",
    "def save_obj(obj, name):\n",
    "    with open(name, 'wb') as f:\n",
    "        pickle.dump(obj, f, pickle.HIGHEST_PROTOCOL)\n",
    "\n",
    "        \n",
    "def load_obj(name):\n",
    "    with open(name, 'rb') as f:\n",
    "        return pickle.load(f)\n"
   ]
  },
  {
   "cell_type": "code",
   "execution_count": 16,
   "id": "c8de132f",
   "metadata": {},
   "outputs": [],
   "source": [
    "def checkKey(dict, key):\n",
    "      \n",
    "    if key in dict.keys():\n",
    "        print(\"Present, \", end=\" \")\n",
    "        print(\"value =\", dict[key])\n",
    "        return(True)\n",
    "    else:\n",
    "        print(\"Not present\")\n",
    "        return(False)"
   ]
  },
  {
   "cell_type": "code",
   "execution_count": 17,
   "id": "60c65d0b",
   "metadata": {},
   "outputs": [],
   "source": [
    "import warnings\n",
    "warnings.simplefilter('ignore')"
   ]
  },
  {
   "cell_type": "code",
   "execution_count": 18,
   "id": "ab5a173e",
   "metadata": {},
   "outputs": [],
   "source": [
    "import os\n",
    "os.chdir(\"/Users/liorshefler/Documents/Fall2022/Research/MAST_2022-09-07T1447/JWST/jw01386-o015_t005_miri_ch1-mediumshortlong-\")"
   ]
  },
  {
   "cell_type": "code",
   "execution_count": 19,
   "id": "98620c2c",
   "metadata": {},
   "outputs": [],
   "source": [
    "# Read in all X1D spectra to a single spectrum list and combine into a single spectrum1d object\n",
    "\n",
    "ddd = '.'\n",
    "splist = SpectrumList.read(ddd)\n",
    "\n",
    "wlallorig = []\n",
    "fnuallorig = []\n",
    "dfnuallorig = []\n",
    "for bndind in range(len(splist)):\n",
    "    for wlind in range(len(splist[bndind].spectral_axis)):\n",
    "        wlallorig.append(splist[bndind].spectral_axis[wlind].value)\n",
    "        fnuallorig.append(splist[bndind].flux[wlind].value)\n",
    "        dfnuallorig.append(splist[bndind].uncertainty[wlind].array)\n",
    "\n",
    "wlallarr = np.array(wlallorig)\n",
    "fnuallarr = np.array(fnuallorig)\n",
    "dfnuallarr = np.array(dfnuallorig)\n",
    "srtind = np.argsort(wlallarr)\n",
    "wlall = wlallarr[srtind]\n",
    "fnuall = fnuallarr[srtind]\n",
    "\n",
    "# Developer Note: We put in errors of 0.0001, but uncertainties need to be fixed\n",
    "dfnuall = (0.0001)*np.ones(len(fnuall))"
   ]
  },
  {
   "cell_type": "code",
   "execution_count": 20,
   "id": "4eb83e91",
   "metadata": {},
   "outputs": [
    {
     "data": {
      "application/vnd.jupyter.widget-view+json": {
       "model_id": "fd93ec47e02c45d7a71715a26b744cb2",
       "version_major": 2,
       "version_minor": 0
      },
      "text/plain": [
       "Application(config='specviz', events=['call_viewer_method', 'close_snackbar_message', 'data_item_remove', 'dat…"
      ]
     },
     "execution_count": 20,
     "metadata": {},
     "output_type": "execute_result"
    }
   ],
   "source": [
    "# Open these spectra up in Specviz\n",
    "specviz = Specviz()\n",
    "specviz.app"
   ]
  },
  {
   "cell_type": "code",
   "execution_count": 21,
   "id": "6ec0a92d",
   "metadata": {},
   "outputs": [],
   "source": [
    "# Load in the spectrum list from above. \n",
    "specviz.load_spectrum(splist)"
   ]
  },
  {
   "cell_type": "code",
   "execution_count": 22,
   "id": "56589f5c",
   "metadata": {},
   "outputs": [
    {
     "data": {
      "application/vnd.jupyter.widget-view+json": {
       "model_id": "bc37b5b4863b4bf4b7f2820c8622d97a",
       "version_major": 2,
       "version_minor": 0
      },
      "text/plain": [
       "Application(config='cubeviz', events=['call_viewer_method', 'close_snackbar_message', 'data_item_remove', 'dat…"
      ]
     },
     "execution_count": 22,
     "metadata": {},
     "output_type": "execute_result"
    }
   ],
   "source": [
    "cubeviz = Cubeviz()\n",
    "cubeviz.app"
   ]
  },
  {
   "cell_type": "code",
   "execution_count": 23,
   "id": "346da9f7",
   "metadata": {},
   "outputs": [],
   "source": [
    "# Here, we load the data into the Cubeviz app for visual inspection.  \n",
    "# In this case, we're just looking at a single channel because, unlike Specviz, Cubeviz can only load a single cube at a time.\n",
    "\n",
    "ch1short_cubefile = 'jw01386-o015_t005_miri_ch1-mediumshortlong-_s3d.fits'\n",
    "cubeviz.load_data(ch1short_cubefile)"
   ]
  },
  {
   "cell_type": "markdown",
   "id": "2697b6b6",
   "metadata": {},
   "source": [
    "# Too noisy, cannot locate target\n",
    "\n",
    "Could be due to:\n",
    "- Exoplanet's proximity to star\n",
    "- Dimness of exoplanet"
   ]
  },
  {
   "cell_type": "code",
   "execution_count": 24,
   "id": "00819cfd",
   "metadata": {},
   "outputs": [],
   "source": [
    "# Now extract spectrum from your spectral viewer\n",
    "spec_agb = cubeviz.app.get_data_from_viewer('spectrum-viewer', 'Subset 5') # AGB star only"
   ]
  },
  {
   "cell_type": "code",
   "execution_count": 25,
   "id": "a40cf399",
   "metadata": {},
   "outputs": [],
   "source": [
    "wav = wlall*u.micron # Wavelength: microns\n",
    "fl = fnuall*u.Jy # Fnu:  Jy\n",
    "efl = dfnuall*u.Jy # Error flux: Jy\n",
    "\n",
    "# Make a 1D spectrum object\n",
    "spec = Spectrum1D(spectral_axis=wav, flux=fl, uncertainty=StdDevUncertainty(efl))"
   ]
  },
  {
   "cell_type": "code",
   "execution_count": 26,
   "id": "8e588c55",
   "metadata": {},
   "outputs": [
    {
     "data": {
      "image/png": "[encoded data removed]",
      "text/plain": [
       "<Figure size 576x288 with 1 Axes>"
      ]
     },
     "metadata": {
      "needs_background": "light"
     },
     "output_type": "display_data"
    }
   ],
   "source": [
    "# Apply a 5 pixel boxcar smoothing to the spectrum\n",
    "spec_bsmooth = box_smooth(spec, width=5)   \n",
    "\n",
    "# Plot the spectrum & smoothed spectrum to inspect features \n",
    "plt.figure(figsize=(8, 4))\n",
    "plt.plot(spec.spectral_axis, spec.flux, label='Source')\n",
    "plt.plot(spec.spectral_axis, spec_bsmooth.flux, label='Smoothed')\n",
    "plt.xlabel('Wavelength (microns)')\n",
    "plt.ylabel(\"Flux ({:latex})\".format(spec.flux.unit))\n",
    "plt.ylim(-0.05, 0.15)\n",
    "\n",
    "\n",
    "plt.legend(frameon=False, fontsize='medium')\n",
    "plt.tight_layout()\n",
    "plt.show()\n",
    "plt.close()"
   ]
  },
  {
   "cell_type": "code",
   "execution_count": 27,
   "id": "517e7984",
   "metadata": {},
   "outputs": [],
   "source": [
    "spec_agb = spec\n"
   ]
  },
  {
   "cell_type": "code",
   "execution_count": 28,
   "id": "bb486759",
   "metadata": {},
   "outputs": [
    {
     "data": {
      "application/vnd.jupyter.widget-view+json": {
       "model_id": "9229ae24c6eb432a826674d28f97ebe6",
       "version_major": 2,
       "version_minor": 0
      },
      "text/plain": [
       "Application(config='specviz', events=['call_viewer_method', 'close_snackbar_message', 'data_item_remove', 'dat…"
      ]
     },
     "execution_count": 28,
     "metadata": {},
     "output_type": "execute_result"
    }
   ],
   "source": [
    "# Open these spectra up in Specviz\n",
    "specviz = Specviz()\n",
    "specviz.app"
   ]
  },
  {
   "cell_type": "code",
   "execution_count": 29,
   "id": "2ba5a600",
   "metadata": {},
   "outputs": [],
   "source": [
    "# For now, you must create your own spectrum1d object from your extracted cubeviz spectrum.  \n",
    "flux = spec_agb.flux\n",
    "wavelength = spec_agb.spectral_axis\n",
    "spec1d = Spectrum1D(spectral_axis=wavelength, flux=flux)\n",
    "specviz.load_spectrum(spec1d)"
   ]
  },
  {
   "cell_type": "code",
   "execution_count": null,
   "id": "1c183687",
   "metadata": {},
   "outputs": [],
   "source": []
  }
 ],
 "metadata": {
  "kernelspec": {
   "display_name": "Python 3",
   "language": "python",
   "name": "python3"
  },
  "language_info": {
   "codemirror_mode": {
    "name": "ipython",
    "version": 3
   },
   "file_extension": ".py",
   "mimetype": "text/x-python",
   "name": "python",
   "nbconvert_exporter": "python",
   "pygments_lexer": "ipython3",
   "version": "3.8.3"
  }
 },
 "nbformat": 4,
 "nbformat_minor": 5
}
